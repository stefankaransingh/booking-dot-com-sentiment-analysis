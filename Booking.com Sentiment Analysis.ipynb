{
 "cells": [
  {
   "cell_type": "markdown",
   "metadata": {},
   "source": [
    "## Import Required Libraries"
   ]
  },
  {
   "cell_type": "code",
   "execution_count": 104,
   "metadata": {
    "collapsed": true
   },
   "outputs": [],
   "source": [
    "import numpy as np\n",
    "import pandas as pd\n",
    "%matplotlib inline\n",
    "import matplotlib.pyplot as plt\n",
    "\n",
    "from sklearn.model_selection import train_test_split\n",
    "from sklearn.naive_bayes import MultinomialNB\n",
    "from sklearn.svm import LinearSVC\n",
    "from sklearn.feature_extraction.text import CountVectorizer\n",
    "from sklearn.model_selection import KFold,cross_val_score\n",
    "from sklearn.metrics import classification_report, confusion_matrix"
   ]
  },
  {
   "cell_type": "code",
   "execution_count": 66,
   "metadata": {
    "collapsed": true
   },
   "outputs": [],
   "source": [
    "FILE_NAME ='data_source/data.csv'\n",
    "SEED=1234"
   ]
  },
  {
   "cell_type": "markdown",
   "metadata": {},
   "source": [
    "## Load Data"
   ]
  },
  {
   "cell_type": "code",
   "execution_count": 29,
   "metadata": {},
   "outputs": [],
   "source": [
    "data ={'review':[],'label':[]}\n",
    "with open(FILE_NAME,'r') as f:\n",
    "    for line in f:\n",
    "        fields = line.split('||')\n",
    "        data['review'].append(fields[0])\n",
    "        data['label'].append(fields[1].rstrip())\n",
    "data = pd.DataFrame(data)\n",
    "data = data[1:]\n",
    "   "
   ]
  },
  {
   "cell_type": "code",
   "execution_count": 41,
   "metadata": {},
   "outputs": [
    {
     "data": {
      "text/plain": [
       "(221160, 2)"
      ]
     },
     "execution_count": 41,
     "metadata": {},
     "output_type": "execute_result"
    }
   ],
   "source": [
    "data.shape"
   ]
  },
  {
   "cell_type": "markdown",
   "metadata": {},
   "source": [
    "## Remove Corrupted Labels"
   ]
  },
  {
   "cell_type": "code",
   "execution_count": 42,
   "metadata": {},
   "outputs": [],
   "source": [
    "data = data[data['label'] != '|neg']\n",
    "data = data[data['label'] != '|pos']\n",
    "data = data[data['label'] != 'd initially,but the young lady who managed the desk was masterful in correcting the issue.']"
   ]
  },
  {
   "cell_type": "code",
   "execution_count": 43,
   "metadata": {
    "scrolled": true
   },
   "outputs": [
    {
     "data": {
      "text/plain": [
       "2"
      ]
     },
     "execution_count": 43,
     "metadata": {},
     "output_type": "execute_result"
    }
   ],
   "source": [
    "len(data['label'].unique())"
   ]
  },
  {
   "cell_type": "code",
   "execution_count": 53,
   "metadata": {
    "scrolled": true
   },
   "outputs": [
    {
     "name": "stdout",
     "output_type": "stream",
     "text": [
      "Number of non unique reviews:  0\n"
     ]
    }
   ],
   "source": [
    "print(\"Number of non unique reviews: \",data.shape[0] - len(data['review'].unique()))"
   ]
  },
  {
   "cell_type": "markdown",
   "metadata": {},
   "source": [
    "## Remove Duplicates"
   ]
  },
  {
   "cell_type": "code",
   "execution_count": 52,
   "metadata": {},
   "outputs": [],
   "source": [
    "data = data.drop_duplicates(['review'])"
   ]
  },
  {
   "cell_type": "code",
   "execution_count": 54,
   "metadata": {},
   "outputs": [
    {
     "data": {
      "text/plain": [
       "(220192, 2)"
      ]
     },
     "execution_count": 54,
     "metadata": {},
     "output_type": "execute_result"
    }
   ],
   "source": [
    "data.shape"
   ]
  },
  {
   "cell_type": "markdown",
   "metadata": {},
   "source": [
    "## Data Exploration"
   ]
  },
  {
   "cell_type": "code",
   "execution_count": 63,
   "metadata": {},
   "outputs": [
    {
     "data": {
      "text/html": [
       "<div>\n",
       "<style scoped>\n",
       "    .dataframe tbody tr th:only-of-type {\n",
       "        vertical-align: middle;\n",
       "    }\n",
       "\n",
       "    .dataframe tbody tr th {\n",
       "        vertical-align: top;\n",
       "    }\n",
       "\n",
       "    .dataframe thead th {\n",
       "        text-align: right;\n",
       "    }\n",
       "</style>\n",
       "<table border=\"1\" class=\"dataframe\">\n",
       "  <thead>\n",
       "    <tr style=\"text-align: right;\">\n",
       "      <th></th>\n",
       "      <th>label</th>\n",
       "      <th>review</th>\n",
       "    </tr>\n",
       "  </thead>\n",
       "  <tbody>\n",
       "    <tr>\n",
       "      <th>1</th>\n",
       "      <td>pos</td>\n",
       "      <td>Cozy hotel with excellent location (a quiet, b...</td>\n",
       "    </tr>\n",
       "    <tr>\n",
       "      <th>2</th>\n",
       "      <td>pos</td>\n",
       "      <td>Friendly staff. Room very big and  comfortable...</td>\n",
       "    </tr>\n",
       "    <tr>\n",
       "      <th>3</th>\n",
       "      <td>pos</td>\n",
       "      <td>Location is very convenient. Atmosphere of a f...</td>\n",
       "    </tr>\n",
       "    <tr>\n",
       "      <th>4</th>\n",
       "      <td>pos</td>\n",
       "      <td>Everything was ok, main thing going for this h...</td>\n",
       "    </tr>\n",
       "    <tr>\n",
       "      <th>5</th>\n",
       "      <td>pos</td>\n",
       "      <td>Excellent accommodation good location attentiv...</td>\n",
       "    </tr>\n",
       "  </tbody>\n",
       "</table>\n",
       "</div>"
      ],
      "text/plain": [
       "  label                                             review\n",
       "1   pos  Cozy hotel with excellent location (a quiet, b...\n",
       "2   pos  Friendly staff. Room very big and  comfortable...\n",
       "3   pos  Location is very convenient. Atmosphere of a f...\n",
       "4   pos  Everything was ok, main thing going for this h...\n",
       "5   pos  Excellent accommodation good location attentiv..."
      ]
     },
     "execution_count": 63,
     "metadata": {},
     "output_type": "execute_result"
    }
   ],
   "source": [
    "data[data['label'] == 'pos'].head()"
   ]
  },
  {
   "cell_type": "code",
   "execution_count": 62,
   "metadata": {
    "scrolled": false
   },
   "outputs": [
    {
     "data": {
      "text/html": [
       "<div>\n",
       "<style scoped>\n",
       "    .dataframe tbody tr th:only-of-type {\n",
       "        vertical-align: middle;\n",
       "    }\n",
       "\n",
       "    .dataframe tbody tr th {\n",
       "        vertical-align: top;\n",
       "    }\n",
       "\n",
       "    .dataframe thead th {\n",
       "        text-align: right;\n",
       "    }\n",
       "</style>\n",
       "<table border=\"1\" class=\"dataframe\">\n",
       "  <thead>\n",
       "    <tr style=\"text-align: right;\">\n",
       "      <th></th>\n",
       "      <th>label</th>\n",
       "      <th>review</th>\n",
       "    </tr>\n",
       "  </thead>\n",
       "  <tbody>\n",
       "    <tr>\n",
       "      <th>110318</th>\n",
       "      <td>neg</td>\n",
       "      <td>I'd have to make it up...</td>\n",
       "    </tr>\n",
       "    <tr>\n",
       "      <th>110319</th>\n",
       "      <td>neg</td>\n",
       "      <td>Staff were friendly but not particularly proac...</td>\n",
       "    </tr>\n",
       "    <tr>\n",
       "      <th>110320</th>\n",
       "      <td>neg</td>\n",
       "      <td>Only moan would be shower curtain really needs...</td>\n",
       "    </tr>\n",
       "    <tr>\n",
       "      <th>110321</th>\n",
       "      <td>neg</td>\n",
       "      <td>Unable to drink water in room, had to get wate...</td>\n",
       "    </tr>\n",
       "    <tr>\n",
       "      <th>110322</th>\n",
       "      <td>neg</td>\n",
       "      <td>They order a taxi transfer for you and add 20 ...</td>\n",
       "    </tr>\n",
       "  </tbody>\n",
       "</table>\n",
       "</div>"
      ],
      "text/plain": [
       "       label                                             review\n",
       "110318   neg                          I'd have to make it up...\n",
       "110319   neg  Staff were friendly but not particularly proac...\n",
       "110320   neg  Only moan would be shower curtain really needs...\n",
       "110321   neg  Unable to drink water in room, had to get wate...\n",
       "110322   neg  They order a taxi transfer for you and add 20 ..."
      ]
     },
     "execution_count": 62,
     "metadata": {},
     "output_type": "execute_result"
    }
   ],
   "source": [
    "data[data['label'] == 'neg'].head()"
   ]
  },
  {
   "cell_type": "markdown",
   "metadata": {},
   "source": [
    "## Split the data"
   ]
  },
  {
   "cell_type": "code",
   "execution_count": 65,
   "metadata": {
    "collapsed": true
   },
   "outputs": [],
   "source": [
    "X = data['review']\n",
    "y = data['label']"
   ]
  },
  {
   "cell_type": "code",
   "execution_count": 68,
   "metadata": {},
   "outputs": [
    {
     "name": "stderr",
     "output_type": "stream",
     "text": [
      "/Users/stefanmarwah/anaconda3/lib/python3.5/site-packages/sklearn/model_selection/_split.py:2026: FutureWarning: From version 0.21, test_size will always complement train_size unless both are specified.\n",
      "  FutureWarning)\n"
     ]
    }
   ],
   "source": [
    "X_train,X_test,y_train,y_test = train_test_split(X,y,train_size=0.8,random_state=SEED)"
   ]
  },
  {
   "cell_type": "markdown",
   "metadata": {},
   "source": [
    "## Feature extraction\n",
    "\n",
    "For each training review, we count the number of occurrences of each word (*term*) and use this to build a **term-document** matrix. This matrix contains the frequency of terms that occur in the set of training reviews."
   ]
  },
  {
   "cell_type": "code",
   "execution_count": 133,
   "metadata": {},
   "outputs": [
    {
     "name": "stdout",
     "output_type": "stream",
     "text": [
      "(176153, 2472315)\n"
     ]
    }
   ],
   "source": [
    "count_vectorizer = CountVectorizer(ngram_range=(1,3))\n",
    "X_train_counts = count_vectorizer.fit_transform(X_train)\n",
    "print(X_train_counts.shape)"
   ]
  },
  {
   "cell_type": "markdown",
   "metadata": {},
   "source": [
    "## Modeling"
   ]
  },
  {
   "cell_type": "code",
   "execution_count": 134,
   "metadata": {},
   "outputs": [
    {
     "name": "stdout",
     "output_type": "stream",
     "text": [
      "Model Name: MultinomialNB | Mean F1 Score: 0.927518 | SD: (0.001937)\n",
      "Model Name: Linear SVC | Mean F1 Score: 0.924787 | SD: (0.001469)\n"
     ]
    }
   ],
   "source": [
    "models =[]\n",
    "models.append(('MultinomialNB',MultinomialNB()))\n",
    "models.append(('Linear SVC',LinearSVC()))\n",
    "\n",
    "results = []\n",
    "names =[]\n",
    "for name,model in models:\n",
    "    #10-fold Cross Validation\n",
    "    kfold = KFold(n_splits=10,random_state=SEED)\n",
    "    cv_results = cross_val_score(model,X_train_counts,y_train,cv=kfold,scoring=\"f1_weighted\")\n",
    "    results.append(cv_results)\n",
    "    names.append(name)\n",
    "    msg = \"Model Name: %s | Mean F1 Score: %f | SD: (%f)\" % (name, cv_results.mean(), cv_results.std())\n",
    "    print(msg)\n"
   ]
  },
  {
   "cell_type": "code",
   "execution_count": 135,
   "metadata": {
    "collapsed": true
   },
   "outputs": [],
   "source": [
    "clf = MultinomialNB().fit(X_train_counts, y_train)"
   ]
  },
  {
   "cell_type": "markdown",
   "metadata": {},
   "source": [
    "### Model Evaluation"
   ]
  },
  {
   "cell_type": "code",
   "execution_count": 147,
   "metadata": {},
   "outputs": [
    {
     "name": "stdout",
     "output_type": "stream",
     "text": [
      "This is a bad hotel => neg 89.83%\n",
      "This hotel is amazing!!! => pos 100.00%\n",
      "The roof was leaking => neg 97.61%\n",
      "The a/c was broken but I loved the stay => pos 76.04%\n",
      "The hotel was well located => pos 100.00%\n",
      "The hotel was too noisy => neg 99.88%\n",
      "The service could be better => neg 100.00%\n",
      "The hotel was next to the city center => pos 100.00%\n",
      "The manager was rude => neg 99.99%\n",
      "nothing => neg 61.96%\n",
      "bad => neg 80.93%\n",
      "no comments => neg 91.72%\n",
      "Big dirty rooms => neg 98.93%\n",
      "amazingly dirty rooms => neg 83.78%\n",
      "They took very long to give us the room => neg 100.00%\n",
      "The room was beautiful and the hotel had an amazing gym => pos 100.00%\n",
      "The food didn't taste amazing => neg 50.06%\n",
      "It was like the AI hotel in Altered Carbon => neg 99.61%\n",
      "It looked like a castle from the mid 18th centuary => neg 95.41%\n",
      "The Waiters were lazy => neg 94.15%\n",
      "It was so amazing, that I will never go back there again! => neg 87.04%\n",
      "Nothing! Had Bed bugs and water leaking from the ceiling!!! Staying ther was beyond amazingly horrible. => neg 100.00%\n"
     ]
    }
   ],
   "source": [
    "reviews = ['This is a bad hotel',\n",
    "            'This hotel is amazing!!!',\n",
    "            'The roof was leaking',\n",
    "             'The a/c was broken but I loved the stay',\n",
    "             'The hotel was well located',\n",
    "             'The hotel was too noisy',\n",
    "              'The service could be better',\n",
    "              'The hotel was next to the city center',\n",
    "              'The manager was rude',\n",
    "              'nothing',\n",
    "               'bad',\n",
    "              'no comments',\n",
    "              'Big dirty rooms',\n",
    "              'amazingly dirty rooms',\n",
    "              'They took very long to give us the room',\n",
    "              'The room was beautiful and the hotel had an amazing gym',\n",
    "              'The food didn\\'t taste amazing',\n",
    "              'It was like the AI hotel in Altered Carbon',\n",
    "              'It looked like a castle from the mid 18th centuary',\n",
    "              'The Waiters were lazy',\n",
    "            'It was so amazing, that I will never go back there again!',\n",
    "              'Nothing! Had Bed bugs and water leaking from the ceiling!!! Staying ther was beyond amazingly horrible.'\n",
    "          ]\n",
    "X_new_counts = count_vectorizer.transform(reviews)\n",
    "\n",
    "predicted = clf.predict(X_new_counts)\n",
    "probabilities = clf.predict_proba(X_new_counts)\n",
    "\n",
    "for review, category,probability in zip(reviews,predicted,probabilities):\n",
    "    print('{0} => {1} {2:.2f}%'.format(review, category,max(probability)*100))"
   ]
  },
  {
   "cell_type": "code",
   "execution_count": 149,
   "metadata": {},
   "outputs": [
    {
     "name": "stdout",
     "output_type": "stream",
     "text": [
      "Test set accuracy is 0.9298576261949636\n"
     ]
    }
   ],
   "source": [
    "X_test_counts = count_vectorizer.transform(X_test)\n",
    "predicted = clf.predict(X_test_counts)\n",
    "print(\"Test set accuracy is\", np.mean(predicted == y_test))"
   ]
  },
  {
   "cell_type": "code",
   "execution_count": 139,
   "metadata": {},
   "outputs": [
    {
     "name": "stdout",
     "output_type": "stream",
     "text": [
      "             precision    recall  f1-score   support\n",
      "\n",
      "        neg       0.91      0.95      0.93     21937\n",
      "        pos       0.95      0.91      0.93     22102\n",
      "\n",
      "avg / total       0.93      0.93      0.93     44039\n",
      "\n"
     ]
    }
   ],
   "source": [
    "print(classification_report(y_test,\n",
    "                            predicted))"
   ]
  }
 ],
 "metadata": {
  "kernelspec": {
   "display_name": "Python [default]",
   "language": "python",
   "name": "python3"
  },
  "language_info": {
   "codemirror_mode": {
    "name": "ipython",
    "version": 3
   },
   "file_extension": ".py",
   "mimetype": "text/x-python",
   "name": "python",
   "nbconvert_exporter": "python",
   "pygments_lexer": "ipython3",
   "version": "3.5.4"
  }
 },
 "nbformat": 4,
 "nbformat_minor": 2
}
